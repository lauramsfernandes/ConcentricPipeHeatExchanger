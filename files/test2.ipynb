{
 "metadata": {
  "language_info": {
   "codemirror_mode": {
    "name": "ipython",
    "version": 3
   },
   "file_extension": ".py",
   "mimetype": "text/x-python",
   "name": "python",
   "nbconvert_exporter": "python",
   "pygments_lexer": "ipython3",
   "version": "3.8.2-final"
  },
  "orig_nbformat": 2,
  "kernelspec": {
   "name": "Python 3.8.2 64-bit",
   "display_name": "Python 3.8.2 64-bit",
   "metadata": {
    "interpreter": {
     "hash": "052842a6a1e0b9bcc9103733fd0207ef4874108b0e421d704238bae1ead77f32"
    }
   }
  }
 },
 "nbformat": 4,
 "nbformat_minor": 2,
 "cells": [
  {
   "cell_type": "code",
   "execution_count": 1,
   "metadata": {},
   "outputs": [],
   "source": [
    "import pandas as pd\n",
    "import numpy as np"
   ]
  },
  {
   "cell_type": "code",
   "execution_count": 69,
   "metadata": {},
   "outputs": [],
   "source": [
    "%run lmtd.py"
   ]
  },
  {
   "cell_type": "code",
   "execution_count": 57,
   "metadata": {},
   "outputs": [],
   "source": [
    "##Create Temperature and Mass Flow Rate DataFrame\n",
    "\n",
    "# Mass flow rate [kg/s] from hot and cold fluids\n",
    "m_rate_hot = [0.02, 0.03, 0.04, 0.05, 0.04]\n",
    "m_rate_cold = [0.03, 0.03, 0.03, 0.02, 0.02]\n",
    "\n",
    "# Temperature from 4 termopars t1, t2, t3, t4 [°C]\n",
    "t1_in_hot = [53, 53, 52, 52, 52.2]\n",
    "t2_out_hot = [41.5, 42.5, 42.6, 43.5, 43.3]\n",
    "t3_in_cold = [26.5, 26.5, 26.2, 26.2, 26.2]\n",
    "t4_out_cold = [29.2, 30, 30, 31.2, 31]\n",
    "\n",
    "# Create data dictionary\n",
    "d = {   'Mass Flow Rate Hot [kg/s]': m_rate_hot,\n",
    "        'Mass Flow Rate Cold [kg/s]': m_rate_cold,\n",
    "        'Temperature Hot In [°C]': t1_in_hot,\n",
    "        'Temperature Hot Out [°C]': t2_out_hot,\n",
    "        'Temperature Cold In [°C]': t3_in_cold,\n",
    "        'Temperature Cold Out [°C]': t4_out_cold\n",
    "    }\n",
    "\n",
    "# Create df\n",
    "df = pd.DataFrame(data=d)\n"
   ]
  },
  {
   "cell_type": "code",
   "execution_count": 58,
   "metadata": {},
   "outputs": [
    {
     "output_type": "execute_result",
     "data": {
      "text/plain": [
       "   Mass Flow Rate Hot [kg/s]  Mass Flow Rate Cold [kg/s]  \\\n",
       "0                       0.02                        0.03   \n",
       "1                       0.03                        0.03   \n",
       "2                       0.04                        0.03   \n",
       "3                       0.05                        0.02   \n",
       "4                       0.04                        0.02   \n",
       "\n",
       "   Temperature Hot In [°C]  Temperature Hot Out [°C]  \\\n",
       "0                     53.0                      41.5   \n",
       "1                     53.0                      42.5   \n",
       "2                     52.0                      42.6   \n",
       "3                     52.0                      43.5   \n",
       "4                     52.2                      43.3   \n",
       "\n",
       "   Temperature Cold In [°C]  Temperature Cold Out [°C]  \n",
       "0                      26.5                       29.2  \n",
       "1                      26.5                       30.0  \n",
       "2                      26.2                       30.0  \n",
       "3                      26.2                       31.2  \n",
       "4                      26.2                       31.0  "
      ],
      "text/html": "<div>\n<style scoped>\n    .dataframe tbody tr th:only-of-type {\n        vertical-align: middle;\n    }\n\n    .dataframe tbody tr th {\n        vertical-align: top;\n    }\n\n    .dataframe thead th {\n        text-align: right;\n    }\n</style>\n<table border=\"1\" class=\"dataframe\">\n  <thead>\n    <tr style=\"text-align: right;\">\n      <th></th>\n      <th>Mass Flow Rate Hot [kg/s]</th>\n      <th>Mass Flow Rate Cold [kg/s]</th>\n      <th>Temperature Hot In [°C]</th>\n      <th>Temperature Hot Out [°C]</th>\n      <th>Temperature Cold In [°C]</th>\n      <th>Temperature Cold Out [°C]</th>\n    </tr>\n  </thead>\n  <tbody>\n    <tr>\n      <th>0</th>\n      <td>0.02</td>\n      <td>0.03</td>\n      <td>53.0</td>\n      <td>41.5</td>\n      <td>26.5</td>\n      <td>29.2</td>\n    </tr>\n    <tr>\n      <th>1</th>\n      <td>0.03</td>\n      <td>0.03</td>\n      <td>53.0</td>\n      <td>42.5</td>\n      <td>26.5</td>\n      <td>30.0</td>\n    </tr>\n    <tr>\n      <th>2</th>\n      <td>0.04</td>\n      <td>0.03</td>\n      <td>52.0</td>\n      <td>42.6</td>\n      <td>26.2</td>\n      <td>30.0</td>\n    </tr>\n    <tr>\n      <th>3</th>\n      <td>0.05</td>\n      <td>0.02</td>\n      <td>52.0</td>\n      <td>43.5</td>\n      <td>26.2</td>\n      <td>31.2</td>\n    </tr>\n    <tr>\n      <th>4</th>\n      <td>0.04</td>\n      <td>0.02</td>\n      <td>52.2</td>\n      <td>43.3</td>\n      <td>26.2</td>\n      <td>31.0</td>\n    </tr>\n  </tbody>\n</table>\n</div>"
     },
     "metadata": {},
     "execution_count": 58
    }
   ],
   "source": [
    "df"
   ]
  },
  {
   "cell_type": "code",
   "execution_count": 61,
   "metadata": {},
   "outputs": [
    {
     "output_type": "execute_result",
     "data": {
      "text/plain": [
       "   Specific Heat Hot Fluid [kJ/kg.K]  Specific Heat Cold Fluid [kJ/kg.K]  \\\n",
       "0                              4.178                                4.18   \n",
       "1                              4.178                                4.18   \n",
       "2                              4.178                                4.18   \n",
       "3                              4.178                                4.18   \n",
       "4                              4.178                                4.18   \n",
       "\n",
       "   Transfer Heat Rate Hot Fluid [W]  Transfer Heat Rate Cold Fluid [W]  \\\n",
       "0                          -960.889                            338.581   \n",
       "1                         -1316.010                            438.889   \n",
       "2                         -1570.846                            476.513   \n",
       "3                         -1775.569                            417.975   \n",
       "4                         -1487.300                            401.259   \n",
       "\n",
       "   Heat Lost [%]  \n",
       "0        -35.236  \n",
       "1        -33.350  \n",
       "2        -30.335  \n",
       "3        -23.540  \n",
       "4        -26.979  "
      ],
      "text/html": "<div>\n<style scoped>\n    .dataframe tbody tr th:only-of-type {\n        vertical-align: middle;\n    }\n\n    .dataframe tbody tr th {\n        vertical-align: top;\n    }\n\n    .dataframe thead th {\n        text-align: right;\n    }\n</style>\n<table border=\"1\" class=\"dataframe\">\n  <thead>\n    <tr style=\"text-align: right;\">\n      <th></th>\n      <th>Specific Heat Hot Fluid [kJ/kg.K]</th>\n      <th>Specific Heat Cold Fluid [kJ/kg.K]</th>\n      <th>Transfer Heat Rate Hot Fluid [W]</th>\n      <th>Transfer Heat Rate Cold Fluid [W]</th>\n      <th>Heat Lost [%]</th>\n    </tr>\n  </thead>\n  <tbody>\n    <tr>\n      <th>0</th>\n      <td>4.178</td>\n      <td>4.18</td>\n      <td>-960.889</td>\n      <td>338.581</td>\n      <td>-35.236</td>\n    </tr>\n    <tr>\n      <th>1</th>\n      <td>4.178</td>\n      <td>4.18</td>\n      <td>-1316.010</td>\n      <td>438.889</td>\n      <td>-33.350</td>\n    </tr>\n    <tr>\n      <th>2</th>\n      <td>4.178</td>\n      <td>4.18</td>\n      <td>-1570.846</td>\n      <td>476.513</td>\n      <td>-30.335</td>\n    </tr>\n    <tr>\n      <th>3</th>\n      <td>4.178</td>\n      <td>4.18</td>\n      <td>-1775.569</td>\n      <td>417.975</td>\n      <td>-23.540</td>\n    </tr>\n    <tr>\n      <th>4</th>\n      <td>4.178</td>\n      <td>4.18</td>\n      <td>-1487.300</td>\n      <td>401.259</td>\n      <td>-26.979</td>\n    </tr>\n  </tbody>\n</table>\n</div>"
     },
     "metadata": {},
     "execution_count": 61
    }
   ],
   "source": [
    "# Create Specific Heat, Transfer Heat Rate, % Heat Lost DataFrame\n",
    "df_question1 = df_1(df).round(3)\n",
    "df_question1"
   ]
  },
  {
   "cell_type": "code",
   "execution_count": 70,
   "metadata": {},
   "outputs": [
    {
     "output_type": "execute_result",
     "data": {
      "text/plain": [
       "   Log Mean Temperature Difference [°C]  Heat Capacity Hot [W/K]  \\\n",
       "0                                18.501                    0.084   \n",
       "1                                18.631                    0.125   \n",
       "2                                18.418                    0.167   \n",
       "3                                18.224                    0.209   \n",
       "4                                18.303                    0.167   \n",
       "\n",
       "   Heat Capacity Cold [W/K]  Effectiveness    NUT  \n",
       "0                     0.125          0.170  0.219  \n",
       "1                     0.125          0.152  0.188  \n",
       "2                     0.125          0.173  0.206  \n",
       "3                     0.084          0.240  0.274  \n",
       "4                     0.084          0.226  0.262  "
      ],
      "text/html": "<div>\n<style scoped>\n    .dataframe tbody tr th:only-of-type {\n        vertical-align: middle;\n    }\n\n    .dataframe tbody tr th {\n        vertical-align: top;\n    }\n\n    .dataframe thead th {\n        text-align: right;\n    }\n</style>\n<table border=\"1\" class=\"dataframe\">\n  <thead>\n    <tr style=\"text-align: right;\">\n      <th></th>\n      <th>Log Mean Temperature Difference [°C]</th>\n      <th>Heat Capacity Hot [W/K]</th>\n      <th>Heat Capacity Cold [W/K]</th>\n      <th>Effectiveness</th>\n      <th>NUT</th>\n    </tr>\n  </thead>\n  <tbody>\n    <tr>\n      <th>0</th>\n      <td>18.501</td>\n      <td>0.084</td>\n      <td>0.125</td>\n      <td>0.170</td>\n      <td>0.219</td>\n    </tr>\n    <tr>\n      <th>1</th>\n      <td>18.631</td>\n      <td>0.125</td>\n      <td>0.125</td>\n      <td>0.152</td>\n      <td>0.188</td>\n    </tr>\n    <tr>\n      <th>2</th>\n      <td>18.418</td>\n      <td>0.167</td>\n      <td>0.125</td>\n      <td>0.173</td>\n      <td>0.206</td>\n    </tr>\n    <tr>\n      <th>3</th>\n      <td>18.224</td>\n      <td>0.209</td>\n      <td>0.084</td>\n      <td>0.240</td>\n      <td>0.274</td>\n    </tr>\n    <tr>\n      <th>4</th>\n      <td>18.303</td>\n      <td>0.167</td>\n      <td>0.084</td>\n      <td>0.226</td>\n      <td>0.262</td>\n    </tr>\n  </tbody>\n</table>\n</div>"
     },
     "metadata": {},
     "execution_count": 70
    }
   ],
   "source": [
    "df_question2 = df_2(df).round(3)\n",
    "df_question2"
   ]
  },
  {
   "cell_type": "code",
   "execution_count": null,
   "metadata": {},
   "outputs": [],
   "source": []
  }
 ]
}