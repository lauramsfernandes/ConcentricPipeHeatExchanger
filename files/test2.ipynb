{
 "metadata": {
  "language_info": {
   "codemirror_mode": {
    "name": "ipython",
    "version": 3
   },
   "file_extension": ".py",
   "mimetype": "text/x-python",
   "name": "python",
   "nbconvert_exporter": "python",
   "pygments_lexer": "ipython3",
   "version": "3.8.2-final"
  },
  "orig_nbformat": 2,
  "kernelspec": {
   "name": "Python 3.8.2 64-bit",
   "display_name": "Python 3.8.2 64-bit",
   "metadata": {
    "interpreter": {
     "hash": "052842a6a1e0b9bcc9103733fd0207ef4874108b0e421d704238bae1ead77f32"
    }
   }
  }
 },
 "nbformat": 4,
 "nbformat_minor": 2,
 "cells": [
  {
   "cell_type": "code",
   "execution_count": 1,
   "metadata": {},
   "outputs": [],
   "source": [
    "import pandas as pd\n",
    "import numpy as np"
   ]
  },
  {
   "cell_type": "code",
   "execution_count": 2,
   "metadata": {},
   "outputs": [],
   "source": [
    "%run lmtd.py"
   ]
  },
  {
   "cell_type": "code",
   "execution_count": 7,
   "metadata": {},
   "outputs": [],
   "source": [
    "##Create Temperature and Mass Flow Rate DataFrame\n",
    "\n",
    "# Mass flow rate [kg/s] from hot and cold fluids\n",
    "m_rate_hot = [0.02, 0.03, 0.04, 0.05, 0.04]\n",
    "m_rate_cold = [0.03, 0.03, 0.03, 0.02, 0.02]\n",
    "\n",
    "# Temperature from 4 termopars t1, t2, t3, t4 [°C]\n",
    "t1_in_hot = [53, 53, 52, 52, 52.2]\n",
    "t2_out_hot = [41.5, 42.5, 42.6, 43.5, 43.3]\n",
    "t3_in_cold = [26.5, 26.5, 26.2, 26.2, 26.2]\n",
    "t4_out_cold = [29.2, 30, 30, 30.2, 31]\n",
    "\n",
    "# Create data dictionary\n",
    "d = {   'Mass Flow Rate Hot [kg/s]': m_rate_hot,\n",
    "        'Mass Flow Rate Cold [kg/s]': m_rate_cold,\n",
    "        'Temperature Hot In [°C]': t1_in_hot,\n",
    "        'Temperature Hot Out [°C]': t2_out_hot,\n",
    "        'Temperature Cold In [°C]': t3_in_cold,\n",
    "        'Temperature Cold Out [°C]': t4_out_cold\n",
    "    }\n",
    "\n",
    "# Create df\n",
    "\n",
    "df = pd.DataFrame(data=d)\n"
   ]
  },
  {
   "cell_type": "code",
   "execution_count": 8,
   "metadata": {},
   "outputs": [
    {
     "output_type": "execute_result",
     "data": {
      "text/plain": [
       "   Mass Flow Rate Hot [kg/s]  Mass Flow Rate Cold [kg/s]  \\\n",
       "0                       0.02                        0.03   \n",
       "1                       0.03                        0.03   \n",
       "2                       0.04                        0.03   \n",
       "3                       0.05                        0.02   \n",
       "4                       0.04                        0.02   \n",
       "\n",
       "   Temperature Hot In [°C]  Temperature Hot Out [°C]  \\\n",
       "0                     53.0                      41.5   \n",
       "1                     53.0                      42.5   \n",
       "2                     52.0                      42.6   \n",
       "3                     52.0                      43.5   \n",
       "4                     52.2                      43.3   \n",
       "\n",
       "   Temperature Cold In [°C]  Temperature Cold Out [°C]  \n",
       "0                      26.5                       29.2  \n",
       "1                      26.5                       30.0  \n",
       "2                      26.2                       30.0  \n",
       "3                      26.2                       30.2  \n",
       "4                      26.2                       31.0  "
      ],
      "text/html": "<div>\n<style scoped>\n    .dataframe tbody tr th:only-of-type {\n        vertical-align: middle;\n    }\n\n    .dataframe tbody tr th {\n        vertical-align: top;\n    }\n\n    .dataframe thead th {\n        text-align: right;\n    }\n</style>\n<table border=\"1\" class=\"dataframe\">\n  <thead>\n    <tr style=\"text-align: right;\">\n      <th></th>\n      <th>Mass Flow Rate Hot [kg/s]</th>\n      <th>Mass Flow Rate Cold [kg/s]</th>\n      <th>Temperature Hot In [°C]</th>\n      <th>Temperature Hot Out [°C]</th>\n      <th>Temperature Cold In [°C]</th>\n      <th>Temperature Cold Out [°C]</th>\n    </tr>\n  </thead>\n  <tbody>\n    <tr>\n      <th>0</th>\n      <td>0.02</td>\n      <td>0.03</td>\n      <td>53.0</td>\n      <td>41.5</td>\n      <td>26.5</td>\n      <td>29.2</td>\n    </tr>\n    <tr>\n      <th>1</th>\n      <td>0.03</td>\n      <td>0.03</td>\n      <td>53.0</td>\n      <td>42.5</td>\n      <td>26.5</td>\n      <td>30.0</td>\n    </tr>\n    <tr>\n      <th>2</th>\n      <td>0.04</td>\n      <td>0.03</td>\n      <td>52.0</td>\n      <td>42.6</td>\n      <td>26.2</td>\n      <td>30.0</td>\n    </tr>\n    <tr>\n      <th>3</th>\n      <td>0.05</td>\n      <td>0.02</td>\n      <td>52.0</td>\n      <td>43.5</td>\n      <td>26.2</td>\n      <td>30.2</td>\n    </tr>\n    <tr>\n      <th>4</th>\n      <td>0.04</td>\n      <td>0.02</td>\n      <td>52.2</td>\n      <td>43.3</td>\n      <td>26.2</td>\n      <td>31.0</td>\n    </tr>\n  </tbody>\n</table>\n</div>"
     },
     "metadata": {},
     "execution_count": 8
    }
   ],
   "source": [
    "df"
   ]
  },
  {
   "cell_type": "code",
   "execution_count": null,
   "metadata": {},
   "outputs": [],
   "source": []
  }
 ]
}